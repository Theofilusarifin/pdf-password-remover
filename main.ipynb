{
 "cells": [
  {
   "cell_type": "code",
   "execution_count": 4,
   "metadata": {},
   "outputs": [],
   "source": [
    "import pikepdf\n",
    "import os"
   ]
  },
  {
   "cell_type": "code",
   "execution_count": 5,
   "metadata": {},
   "outputs": [],
   "source": [
    "PDF_PASS = os.getenv(\"PDF_PASSWORD\")"
   ]
  },
  {
   "cell_type": "code",
   "execution_count": 7,
   "metadata": {},
   "outputs": [],
   "source": [
    "def remove_password_from_pdf(source_location, save_location):\n",
    "    pdf = pikepdf.open(source_location, password=PDF_PASS)\n",
    "    pdf_save_name = source_location.split(\"\\\\\")[-1]\n",
    "    pdf.save(save_location + '\\\\' + pdf_save_name)"
   ]
  },
  {
   "cell_type": "code",
   "execution_count": 53,
   "metadata": {},
   "outputs": [],
   "source": [
    "DATA_PATH = './owlexa-documents/'\n",
    "SOURCE_PATH = DATA_PATH + 'password/'\n",
    "SAVE_PATH = DATA_PATH + 'password_removed/'"
   ]
  },
  {
   "cell_type": "code",
   "execution_count": 57,
   "metadata": {},
   "outputs": [],
   "source": [
    "source_folder = os.listdir(SOURCE_PATH)\n",
    "source_folder_sp3 = source_folder[1] "
   ]
  },
  {
   "cell_type": "code",
   "execution_count": 61,
   "metadata": {},
   "outputs": [
    {
     "data": {
      "text/plain": [
       "['1.pdf', '2.pdf']"
      ]
     },
     "execution_count": 61,
     "metadata": {},
     "output_type": "execute_result"
    }
   ],
   "source": [
    "source_files_sp3 = [file for file in os.listdir(os.path.join(SOURCE_PATH, source_folder_sp3))]\n",
    "source_files_sp3"
   ]
  },
  {
   "cell_type": "code",
   "execution_count": 65,
   "metadata": {},
   "outputs": [],
   "source": [
    "for file in source_files_sp3:\n",
    "    source_location = os.path.join(SOURCE_PATH, source_folder_sp3, file)\n",
    "    save_location = os.path.join(SAVE_PATH, source_folder_sp3)\n",
    "    remove_password_from_pdf(source_location, save_location)"
   ]
  }
 ],
 "metadata": {
  "kernelspec": {
   "display_name": "venv",
   "language": "python",
   "name": "python3"
  },
  "language_info": {
   "codemirror_mode": {
    "name": "ipython",
    "version": 3
   },
   "file_extension": ".py",
   "mimetype": "text/x-python",
   "name": "python",
   "nbconvert_exporter": "python",
   "pygments_lexer": "ipython3",
   "version": "3.12.3"
  }
 },
 "nbformat": 4,
 "nbformat_minor": 2
}
